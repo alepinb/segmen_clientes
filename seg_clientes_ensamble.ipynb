{
 "cells": [
  {
   "cell_type": "markdown",
   "metadata": {},
   "source": [
    "## Stacking Classifier\n",
    "El Stacking Classifier usa varios modelos base y luego utiliza un meta-modelo (también llamado modelo de segundo nivel) para hacer la predicción final. Este meta-modelo toma las predicciones de los modelos base como entrada."
   ]
  },
  {
   "cell_type": "markdown",
   "metadata": {},
   "source": [
    "## Cargar librería"
   ]
  },
  {
   "cell_type": "code",
   "execution_count": 8,
   "metadata": {},
   "outputs": [],
   "source": [
    "import pandas as pd\n",
    "from sklearn.ensemble import StackingClassifier\n",
    "from sklearn.linear_model import LogisticRegression\n",
    "from xgboost import XGBClassifier\n",
    "from sklearn.ensemble import RandomForestClassifier\n",
    "from sklearn.neighbors import KNeighborsClassifier\n",
    "from sklearn.model_selection import train_test_split\n",
    "from sklearn.preprocessing import StandardScaler\n",
    "from sklearn.metrics import accuracy_score\n",
    "from sklearn.ensemble import VotingClassifier\n"
   ]
  },
  {
   "cell_type": "markdown",
   "metadata": {},
   "source": [
    "## Cargar dataset"
   ]
  },
  {
   "cell_type": "code",
   "execution_count": 4,
   "metadata": {},
   "outputs": [
    {
     "name": "stdout",
     "output_type": "stream",
     "text": [
      "   region  tenure  age  marital  address  income  ed  employ  retire  gender  \\\n",
      "0       2      13   44        1        9    64.0   4       5       0       0   \n",
      "1       3      11   33        1        7   136.0   5       5       0       0   \n",
      "2       3      68   52        1       24   116.0   1      29       0       1   \n",
      "3       2      33   33        0       12    33.0   2       0       0       1   \n",
      "4       2      23   30        1        9    30.0   1       2       0       0   \n",
      "\n",
      "   reside  custcat  \n",
      "0       2        1  \n",
      "1       6        4  \n",
      "2       2        3  \n",
      "3       1        1  \n",
      "4       4        3  \n",
      "<class 'pandas.core.frame.DataFrame'>\n",
      "RangeIndex: 1000 entries, 0 to 999\n",
      "Data columns (total 12 columns):\n",
      " #   Column   Non-Null Count  Dtype  \n",
      "---  ------   --------------  -----  \n",
      " 0   region   1000 non-null   int64  \n",
      " 1   tenure   1000 non-null   int64  \n",
      " 2   age      1000 non-null   int64  \n",
      " 3   marital  1000 non-null   int64  \n",
      " 4   address  1000 non-null   int64  \n",
      " 5   income   1000 non-null   float64\n",
      " 6   ed       1000 non-null   int64  \n",
      " 7   employ   1000 non-null   int64  \n",
      " 8   retire   1000 non-null   int64  \n",
      " 9   gender   1000 non-null   int64  \n",
      " 10  reside   1000 non-null   int64  \n",
      " 11  custcat  1000 non-null   int64  \n",
      "dtypes: float64(1), int64(11)\n",
      "memory usage: 93.9 KB\n",
      "None\n"
     ]
    }
   ],
   "source": [
    "# Ruta del archivo\n",
    "ruta = r'C:/Users/Administrator/Documents/Proyecto seg clientes refuerzo/Proyecto_seg_clientes/Data/teleCust1000t_listo.csv'\n",
    "\n",
    "# Cargar el dataset\n",
    "df = pd.read_csv(ruta)\n",
    "\n",
    "# Ver las primeras filas\n",
    "print(df.head())\n",
    "print(df.info())"
   ]
  },
  {
   "cell_type": "markdown",
   "metadata": {},
   "source": [
    "## Preparar las características (X) y la variable objetivo (y)"
   ]
  },
  {
   "cell_type": "code",
   "execution_count": 6,
   "metadata": {},
   "outputs": [],
   "source": [
    "# Separar características (X) y la variable objetivo (y)\n",
    "X = df.drop(columns=['custcat'])  # Eliminar la columna objetivo\n",
    "y = df['custcat']                # Variable objetivo"
   ]
  },
  {
   "cell_type": "markdown",
   "metadata": {},
   "source": [
    "## Modelo stacking classifier"
   ]
  },
  {
   "cell_type": "code",
   "execution_count": 7,
   "metadata": {},
   "outputs": [
    {
     "name": "stdout",
     "output_type": "stream",
     "text": [
      "Exactitud del modelo de Stacking Classifier: 0.39\n"
     ]
    }
   ],
   "source": [
    "# Dividir los datos en entrenamiento y prueba\n",
    "X_train, X_test, y_train, y_test = train_test_split(X, y, test_size=0.2, random_state=42)\n",
    "\n",
    "# Escalar las características\n",
    "scaler = StandardScaler()\n",
    "X_train_scaled = scaler.fit_transform(X_train)\n",
    "X_test_scaled = scaler.transform(X_test)\n",
    "\n",
    "# Modelos base\n",
    "base_learners = [\n",
    "    ('xgb', XGBClassifier(random_state=42)),\n",
    "    ('rf', RandomForestClassifier(n_estimators=100, random_state=42)),\n",
    "    ('knn', KNeighborsClassifier(n_neighbors=5))\n",
    "]\n",
    "\n",
    "# Meta-modelo (en este caso, una regresión logística)\n",
    "meta_model = LogisticRegression()\n",
    "\n",
    "# Crear el Stacking Classifier\n",
    "stacking_clf = StackingClassifier(estimators=base_learners, final_estimator=meta_model)\n",
    "\n",
    "# Entrenar el Stacking Classifier\n",
    "stacking_clf.fit(X_train_scaled, y_train)\n",
    "\n",
    "# Hacer predicciones\n",
    "y_pred = stacking_clf.predict(X_test_scaled)\n",
    "\n",
    "# Evaluar el modelo\n",
    "accuracy = accuracy_score(y_test, y_pred)\n",
    "print(f\"Exactitud del modelo de Stacking Classifier: {accuracy:.2f}\")"
   ]
  },
  {
   "cell_type": "markdown",
   "metadata": {},
   "source": [
    "## Voting Classifier"
   ]
  },
  {
   "cell_type": "code",
   "execution_count": 9,
   "metadata": {},
   "outputs": [
    {
     "name": "stdout",
     "output_type": "stream",
     "text": [
      "Exactitud del modelo de Voting Classifier: 0.33\n"
     ]
    }
   ],
   "source": [
    "# Crear los modelos base\n",
    "model1 = XGBClassifier(random_state=42)\n",
    "model2 = RandomForestClassifier(n_estimators=100, random_state=42)\n",
    "model3 = KNeighborsClassifier(n_neighbors=5)\n",
    "\n",
    "# Crear el Voting Classifier con votación 'hard' (voto mayoritario)\n",
    "voting_clf = VotingClassifier(estimators=[\n",
    "    ('xgb', model1), \n",
    "    ('rf', model2), \n",
    "    ('knn', model3)\n",
    "], voting='hard')\n",
    "\n",
    "# Entrenar el Voting Classifier\n",
    "voting_clf.fit(X_train_scaled, y_train)\n",
    "\n",
    "# Hacer predicciones\n",
    "y_pred = voting_clf.predict(X_test_scaled)\n",
    "\n",
    "# Evaluar el modelo\n",
    "accuracy = accuracy_score(y_test, y_pred)\n",
    "print(f\"Exactitud del modelo de Voting Classifier: {accuracy:.2f}\")"
   ]
  }
 ],
 "metadata": {
  "kernelspec": {
   "display_name": "myenv",
   "language": "python",
   "name": "python3"
  },
  "language_info": {
   "codemirror_mode": {
    "name": "ipython",
    "version": 3
   },
   "file_extension": ".py",
   "mimetype": "text/x-python",
   "name": "python",
   "nbconvert_exporter": "python",
   "pygments_lexer": "ipython3",
   "version": "3.12.4"
  }
 },
 "nbformat": 4,
 "nbformat_minor": 2
}
