{
 "cells": [
  {
   "cell_type": "markdown",
   "metadata": {},
   "source": [
    "## Red neuronal con Tensorflow"
   ]
  },
  {
   "cell_type": "markdown",
   "metadata": {},
   "source": [
    "## Carga de librerías"
   ]
  },
  {
   "cell_type": "code",
   "execution_count": 342,
   "metadata": {},
   "outputs": [],
   "source": [
    "import pandas as pd\n",
    "import tensorflow as tf\n",
    "from setuptools import setup, Extension\n",
    "from tensorflow.keras.models import Sequential\n",
    "from tensorflow.keras.layers import Dense\n",
    "from tensorflow.keras.optimizers import Adam\n",
    "from sklearn.model_selection import train_test_split\n",
    "from sklearn.preprocessing import StandardScaler\n",
    "from tensorflow.keras.utils import to_categorical\n",
    "from tensorflow.keras.layers import Dropout\n",
    "from sklearn.metrics import accuracy_score, classification_report\n",
    "import matplotlib.pyplot as plt\n",
    "from tensorflow.keras.regularizers import l2\n",
    "from tensorflow.keras.callbacks import EarlyStopping\n"
   ]
  },
  {
   "cell_type": "markdown",
   "metadata": {},
   "source": [
    "## Cargar el dataset"
   ]
  },
  {
   "cell_type": "code",
   "execution_count": 343,
   "metadata": {},
   "outputs": [
    {
     "name": "stdout",
     "output_type": "stream",
     "text": [
      "   region  tenure  age  marital  address  income  ed  employ  retire  gender  \\\n",
      "0       2      13   44        1        9    64.0   4       5       0       0   \n",
      "1       3      11   33        1        7   136.0   5       5       0       0   \n",
      "2       3      68   52        1       24   116.0   1      29       0       1   \n",
      "3       2      33   33        0       12    33.0   2       0       0       1   \n",
      "4       2      23   30        1        9    30.0   1       2       0       0   \n",
      "\n",
      "   reside  custcat  \n",
      "0       2        1  \n",
      "1       6        4  \n",
      "2       2        3  \n",
      "3       1        1  \n",
      "4       4        3  \n",
      "<class 'pandas.core.frame.DataFrame'>\n",
      "RangeIndex: 1000 entries, 0 to 999\n",
      "Data columns (total 12 columns):\n",
      " #   Column   Non-Null Count  Dtype  \n",
      "---  ------   --------------  -----  \n",
      " 0   region   1000 non-null   int64  \n",
      " 1   tenure   1000 non-null   int64  \n",
      " 2   age      1000 non-null   int64  \n",
      " 3   marital  1000 non-null   int64  \n",
      " 4   address  1000 non-null   int64  \n",
      " 5   income   1000 non-null   float64\n",
      " 6   ed       1000 non-null   int64  \n",
      " 7   employ   1000 non-null   int64  \n",
      " 8   retire   1000 non-null   int64  \n",
      " 9   gender   1000 non-null   int64  \n",
      " 10  reside   1000 non-null   int64  \n",
      " 11  custcat  1000 non-null   int64  \n",
      "dtypes: float64(1), int64(11)\n",
      "memory usage: 93.9 KB\n",
      "None\n"
     ]
    }
   ],
   "source": [
    "# Ruta del archivo\n",
    "ruta = r'C:/Users/Administrator/Documents/Proyecto seg clientes refuerzo/Proyecto_seg_clientes/Data/teleCust1000t_listo.csv'\n",
    "\n",
    "# Cargar el dataset\n",
    "df = pd.read_csv(ruta)\n",
    "\n",
    "# Ver las primeras filas\n",
    "print(df.head())\n",
    "print(df.info())"
   ]
  },
  {
   "cell_type": "markdown",
   "metadata": {},
   "source": [
    "## Separar las características (X) y la variable objetivo (y)"
   ]
  },
  {
   "cell_type": "code",
   "execution_count": 344,
   "metadata": {},
   "outputs": [],
   "source": [
    "# Separar las características (X) y la variable objetivo (y)\n",
    "X = df.drop('custcat', axis=1)  # Reemplaza 'custcat' por tu variable objetivo\n",
    "y = df['custcat']"
   ]
  },
  {
   "cell_type": "markdown",
   "metadata": {},
   "source": [
    "## Dividir el dataset en conjunto de entrenamiento y prueba"
   ]
  },
  {
   "cell_type": "code",
   "execution_count": 345,
   "metadata": {},
   "outputs": [],
   "source": [
    "# Dividir el dataset en conjunto de entrenamiento, validación y test\n",
    "X_train, X_temp, y_train, y_temp = train_test_split(X, y, test_size=0.3, random_state=42)\n",
    "X_val, X_test, y_val, y_test = train_test_split(X_temp, y_temp, test_size=0.5, random_state=42)\n"
   ]
  },
  {
   "cell_type": "markdown",
   "metadata": {},
   "source": [
    "## Escalar las características"
   ]
  },
  {
   "cell_type": "code",
   "execution_count": 346,
   "metadata": {},
   "outputs": [],
   "source": [
    "# Escalar las características\n",
    "scaler = StandardScaler()\n",
    "X_train_scaled = scaler.fit_transform(X_train)\n",
    "X_val_scaled = scaler.transform(X_val)\n",
    "X_test_scaled = scaler.transform(X_test)"
   ]
  },
  {
   "cell_type": "markdown",
   "metadata": {},
   "source": [
    "## Codificar la variable objetivo (One-Hot Encoding)"
   ]
  },
  {
   "cell_type": "code",
   "execution_count": 347,
   "metadata": {},
   "outputs": [],
   "source": [
    "# Codificar la variable objetivo (One-Hot Encoding)\n",
    "y_train_encoded = to_categorical(y_train - 1)  # Ajustar para que las clases empiecen en 0\n",
    "y_val_encoded = to_categorical(y_val - 1)\n",
    "y_test_encoded = to_categorical(y_test - 1)"
   ]
  },
  {
   "cell_type": "markdown",
   "metadata": {},
   "source": [
    "## Crear la red neuronal"
   ]
  },
  {
   "cell_type": "code",
   "execution_count": 348,
   "metadata": {},
   "outputs": [],
   "source": [
    "model = Sequential([\n",
    "    Dense(64, activation='elu', kernel_regularizer=l2(0.01)),\n",
    "    Dense(32, activation='elu', kernel_regularizer=l2(0.01)),\n",
    "    Dense(y_train_encoded.shape[1], activation='softmax')\n",
    "])\n"
   ]
  },
  {
   "cell_type": "markdown",
   "metadata": {},
   "source": [
    "## Compilar el modelo"
   ]
  },
  {
   "cell_type": "code",
   "execution_count": 349,
   "metadata": {},
   "outputs": [],
   "source": [
    "# Compilar el modelo\n",
    "optimizer = Adam(learning_rate=0.001)\n",
    "model.compile(optimizer=optimizer, loss='categorical_crossentropy', metrics=['accuracy'])"
   ]
  },
  {
   "cell_type": "markdown",
   "metadata": {},
   "source": [
    "## Entrenar el modelo"
   ]
  },
  {
   "cell_type": "code",
   "execution_count": 350,
   "metadata": {},
   "outputs": [
    {
     "name": "stdout",
     "output_type": "stream",
     "text": [
      "Epoch 1/200\n",
      "\u001b[1m88/88\u001b[0m \u001b[32m━━━━━━━━━━━━━━━━━━━━\u001b[0m\u001b[37m\u001b[0m \u001b[1m3s\u001b[0m 7ms/step - accuracy: 0.2873 - loss: 1.9813 - val_accuracy: 0.3600 - val_loss: 1.8537\n",
      "Epoch 2/200\n",
      "\u001b[1m88/88\u001b[0m \u001b[32m━━━━━━━━━━━━━━━━━━━━\u001b[0m\u001b[37m\u001b[0m \u001b[1m0s\u001b[0m 3ms/step - accuracy: 0.4108 - loss: 1.7544 - val_accuracy: 0.3600 - val_loss: 1.7644\n",
      "Epoch 3/200\n",
      "\u001b[1m88/88\u001b[0m \u001b[32m━━━━━━━━━━━━━━━━━━━━\u001b[0m\u001b[37m\u001b[0m \u001b[1m0s\u001b[0m 3ms/step - accuracy: 0.4252 - loss: 1.6889 - val_accuracy: 0.4000 - val_loss: 1.7162\n",
      "Epoch 4/200\n",
      "\u001b[1m88/88\u001b[0m \u001b[32m━━━━━━━━━━━━━━━━━━━━\u001b[0m\u001b[37m\u001b[0m \u001b[1m0s\u001b[0m 3ms/step - accuracy: 0.4413 - loss: 1.6070 - val_accuracy: 0.3867 - val_loss: 1.6789\n",
      "Epoch 5/200\n",
      "\u001b[1m88/88\u001b[0m \u001b[32m━━━━━━━━━━━━━━━━━━━━\u001b[0m\u001b[37m\u001b[0m \u001b[1m0s\u001b[0m 3ms/step - accuracy: 0.4249 - loss: 1.5510 - val_accuracy: 0.3867 - val_loss: 1.6270\n",
      "Epoch 6/200\n",
      "\u001b[1m88/88\u001b[0m \u001b[32m━━━━━━━━━━━━━━━━━━━━\u001b[0m\u001b[37m\u001b[0m \u001b[1m0s\u001b[0m 3ms/step - accuracy: 0.4819 - loss: 1.4977 - val_accuracy: 0.3800 - val_loss: 1.5928\n",
      "Epoch 7/200\n",
      "\u001b[1m88/88\u001b[0m \u001b[32m━━━━━━━━━━━━━━━━━━━━\u001b[0m\u001b[37m\u001b[0m \u001b[1m0s\u001b[0m 3ms/step - accuracy: 0.4507 - loss: 1.4899 - val_accuracy: 0.4133 - val_loss: 1.5419\n",
      "Epoch 8/200\n",
      "\u001b[1m88/88\u001b[0m \u001b[32m━━━━━━━━━━━━━━━━━━━━\u001b[0m\u001b[37m\u001b[0m \u001b[1m0s\u001b[0m 3ms/step - accuracy: 0.4877 - loss: 1.4185 - val_accuracy: 0.3933 - val_loss: 1.5176\n",
      "Epoch 9/200\n",
      "\u001b[1m88/88\u001b[0m \u001b[32m━━━━━━━━━━━━━━━━━━━━\u001b[0m\u001b[37m\u001b[0m \u001b[1m0s\u001b[0m 4ms/step - accuracy: 0.4424 - loss: 1.4225 - val_accuracy: 0.3733 - val_loss: 1.5003\n",
      "Epoch 10/200\n",
      "\u001b[1m88/88\u001b[0m \u001b[32m━━━━━━━━━━━━━━━━━━━━\u001b[0m\u001b[37m\u001b[0m \u001b[1m0s\u001b[0m 3ms/step - accuracy: 0.4645 - loss: 1.3777 - val_accuracy: 0.3933 - val_loss: 1.4745\n",
      "Epoch 11/200\n",
      "\u001b[1m88/88\u001b[0m \u001b[32m━━━━━━━━━━━━━━━━━━━━\u001b[0m\u001b[37m\u001b[0m \u001b[1m0s\u001b[0m 3ms/step - accuracy: 0.4426 - loss: 1.3651 - val_accuracy: 0.3600 - val_loss: 1.4645\n",
      "Epoch 12/200\n",
      "\u001b[1m88/88\u001b[0m \u001b[32m━━━━━━━━━━━━━━━━━━━━\u001b[0m\u001b[37m\u001b[0m \u001b[1m0s\u001b[0m 3ms/step - accuracy: 0.4326 - loss: 1.3822 - val_accuracy: 0.3733 - val_loss: 1.4466\n",
      "Epoch 13/200\n",
      "\u001b[1m88/88\u001b[0m \u001b[32m━━━━━━━━━━━━━━━━━━━━\u001b[0m\u001b[37m\u001b[0m \u001b[1m0s\u001b[0m 3ms/step - accuracy: 0.4531 - loss: 1.3086 - val_accuracy: 0.3867 - val_loss: 1.4191\n",
      "Epoch 14/200\n",
      "\u001b[1m88/88\u001b[0m \u001b[32m━━━━━━━━━━━━━━━━━━━━\u001b[0m\u001b[37m\u001b[0m \u001b[1m0s\u001b[0m 4ms/step - accuracy: 0.3995 - loss: 1.3629 - val_accuracy: 0.4000 - val_loss: 1.4043\n",
      "Epoch 15/200\n",
      "\u001b[1m88/88\u001b[0m \u001b[32m━━━━━━━━━━━━━━━━━━━━\u001b[0m\u001b[37m\u001b[0m \u001b[1m0s\u001b[0m 4ms/step - accuracy: 0.4786 - loss: 1.2775 - val_accuracy: 0.3867 - val_loss: 1.3972\n",
      "Epoch 16/200\n",
      "\u001b[1m88/88\u001b[0m \u001b[32m━━━━━━━━━━━━━━━━━━━━\u001b[0m\u001b[37m\u001b[0m \u001b[1m0s\u001b[0m 3ms/step - accuracy: 0.4388 - loss: 1.3301 - val_accuracy: 0.3933 - val_loss: 1.3863\n",
      "Epoch 17/200\n",
      "\u001b[1m88/88\u001b[0m \u001b[32m━━━━━━━━━━━━━━━━━━━━\u001b[0m\u001b[37m\u001b[0m \u001b[1m0s\u001b[0m 3ms/step - accuracy: 0.4424 - loss: 1.2849 - val_accuracy: 0.3800 - val_loss: 1.3839\n",
      "Epoch 18/200\n",
      "\u001b[1m88/88\u001b[0m \u001b[32m━━━━━━━━━━━━━━━━━━━━\u001b[0m\u001b[37m\u001b[0m \u001b[1m0s\u001b[0m 3ms/step - accuracy: 0.4631 - loss: 1.2677 - val_accuracy: 0.4000 - val_loss: 1.3656\n",
      "Epoch 19/200\n",
      "\u001b[1m88/88\u001b[0m \u001b[32m━━━━━━━━━━━━━━━━━━━━\u001b[0m\u001b[37m\u001b[0m \u001b[1m0s\u001b[0m 3ms/step - accuracy: 0.4494 - loss: 1.2561 - val_accuracy: 0.3867 - val_loss: 1.3587\n",
      "Epoch 20/200\n",
      "\u001b[1m88/88\u001b[0m \u001b[32m━━━━━━━━━━━━━━━━━━━━\u001b[0m\u001b[37m\u001b[0m \u001b[1m0s\u001b[0m 3ms/step - accuracy: 0.4718 - loss: 1.2468 - val_accuracy: 0.4067 - val_loss: 1.3562\n",
      "Epoch 21/200\n",
      "\u001b[1m88/88\u001b[0m \u001b[32m━━━━━━━━━━━━━━━━━━━━\u001b[0m\u001b[37m\u001b[0m \u001b[1m0s\u001b[0m 3ms/step - accuracy: 0.4222 - loss: 1.2981 - val_accuracy: 0.3933 - val_loss: 1.3539\n",
      "Epoch 22/200\n",
      "\u001b[1m88/88\u001b[0m \u001b[32m━━━━━━━━━━━━━━━━━━━━\u001b[0m\u001b[37m\u001b[0m \u001b[1m0s\u001b[0m 4ms/step - accuracy: 0.4148 - loss: 1.2787 - val_accuracy: 0.3867 - val_loss: 1.3517\n",
      "Epoch 23/200\n",
      "\u001b[1m88/88\u001b[0m \u001b[32m━━━━━━━━━━━━━━━━━━━━\u001b[0m\u001b[37m\u001b[0m \u001b[1m0s\u001b[0m 3ms/step - accuracy: 0.4558 - loss: 1.2459 - val_accuracy: 0.3933 - val_loss: 1.3430\n",
      "Epoch 24/200\n",
      "\u001b[1m88/88\u001b[0m \u001b[32m━━━━━━━━━━━━━━━━━━━━\u001b[0m\u001b[37m\u001b[0m \u001b[1m0s\u001b[0m 3ms/step - accuracy: 0.4337 - loss: 1.2737 - val_accuracy: 0.4067 - val_loss: 1.3316\n",
      "Epoch 25/200\n",
      "\u001b[1m88/88\u001b[0m \u001b[32m━━━━━━━━━━━━━━━━━━━━\u001b[0m\u001b[37m\u001b[0m \u001b[1m0s\u001b[0m 3ms/step - accuracy: 0.4224 - loss: 1.2612 - val_accuracy: 0.4067 - val_loss: 1.3300\n",
      "Epoch 26/200\n",
      "\u001b[1m88/88\u001b[0m \u001b[32m━━━━━━━━━━━━━━━━━━━━\u001b[0m\u001b[37m\u001b[0m \u001b[1m0s\u001b[0m 3ms/step - accuracy: 0.4209 - loss: 1.2515 - val_accuracy: 0.3800 - val_loss: 1.3346\n",
      "Epoch 27/200\n",
      "\u001b[1m88/88\u001b[0m \u001b[32m━━━━━━━━━━━━━━━━━━━━\u001b[0m\u001b[37m\u001b[0m \u001b[1m0s\u001b[0m 3ms/step - accuracy: 0.4530 - loss: 1.2514 - val_accuracy: 0.4067 - val_loss: 1.3305\n",
      "Epoch 28/200\n",
      "\u001b[1m88/88\u001b[0m \u001b[32m━━━━━━━━━━━━━━━━━━━━\u001b[0m\u001b[37m\u001b[0m \u001b[1m0s\u001b[0m 4ms/step - accuracy: 0.4331 - loss: 1.2507 - val_accuracy: 0.3800 - val_loss: 1.3350\n",
      "Epoch 29/200\n",
      "\u001b[1m88/88\u001b[0m \u001b[32m━━━━━━━━━━━━━━━━━━━━\u001b[0m\u001b[37m\u001b[0m \u001b[1m0s\u001b[0m 3ms/step - accuracy: 0.4191 - loss: 1.2587 - val_accuracy: 0.4000 - val_loss: 1.3304\n",
      "Epoch 30/200\n",
      "\u001b[1m88/88\u001b[0m \u001b[32m━━━━━━━━━━━━━━━━━━━━\u001b[0m\u001b[37m\u001b[0m \u001b[1m0s\u001b[0m 3ms/step - accuracy: 0.4475 - loss: 1.2517 - val_accuracy: 0.3933 - val_loss: 1.3250\n",
      "Epoch 31/200\n",
      "\u001b[1m88/88\u001b[0m \u001b[32m━━━━━━━━━━━━━━━━━━━━\u001b[0m\u001b[37m\u001b[0m \u001b[1m0s\u001b[0m 3ms/step - accuracy: 0.4395 - loss: 1.2512 - val_accuracy: 0.4067 - val_loss: 1.3189\n",
      "Epoch 32/200\n",
      "\u001b[1m88/88\u001b[0m \u001b[32m━━━━━━━━━━━━━━━━━━━━\u001b[0m\u001b[37m\u001b[0m \u001b[1m0s\u001b[0m 4ms/step - accuracy: 0.4388 - loss: 1.2220 - val_accuracy: 0.4000 - val_loss: 1.3224\n",
      "Epoch 33/200\n",
      "\u001b[1m88/88\u001b[0m \u001b[32m━━━━━━━━━━━━━━━━━━━━\u001b[0m\u001b[37m\u001b[0m \u001b[1m0s\u001b[0m 3ms/step - accuracy: 0.4552 - loss: 1.2579 - val_accuracy: 0.3933 - val_loss: 1.3207\n",
      "Epoch 34/200\n",
      "\u001b[1m88/88\u001b[0m \u001b[32m━━━━━━━━━━━━━━━━━━━━\u001b[0m\u001b[37m\u001b[0m \u001b[1m0s\u001b[0m 3ms/step - accuracy: 0.4327 - loss: 1.2412 - val_accuracy: 0.3933 - val_loss: 1.3201\n",
      "Epoch 35/200\n",
      "\u001b[1m88/88\u001b[0m \u001b[32m━━━━━━━━━━━━━━━━━━━━\u001b[0m\u001b[37m\u001b[0m \u001b[1m0s\u001b[0m 4ms/step - accuracy: 0.4782 - loss: 1.2126 - val_accuracy: 0.4000 - val_loss: 1.3222\n",
      "Epoch 36/200\n",
      "\u001b[1m88/88\u001b[0m \u001b[32m━━━━━━━━━━━━━━━━━━━━\u001b[0m\u001b[37m\u001b[0m \u001b[1m0s\u001b[0m 3ms/step - accuracy: 0.4469 - loss: 1.2316 - val_accuracy: 0.3867 - val_loss: 1.3201\n",
      "Epoch 37/200\n",
      "\u001b[1m88/88\u001b[0m \u001b[32m━━━━━━━━━━━━━━━━━━━━\u001b[0m\u001b[37m\u001b[0m \u001b[1m0s\u001b[0m 3ms/step - accuracy: 0.4283 - loss: 1.2549 - val_accuracy: 0.3800 - val_loss: 1.3287\n",
      "Epoch 38/200\n",
      "\u001b[1m88/88\u001b[0m \u001b[32m━━━━━━━━━━━━━━━━━━━━\u001b[0m\u001b[37m\u001b[0m \u001b[1m0s\u001b[0m 3ms/step - accuracy: 0.4168 - loss: 1.2509 - val_accuracy: 0.3733 - val_loss: 1.3222\n",
      "Epoch 39/200\n",
      "\u001b[1m88/88\u001b[0m \u001b[32m━━━━━━━━━━━━━━━━━━━━\u001b[0m\u001b[37m\u001b[0m \u001b[1m0s\u001b[0m 4ms/step - accuracy: 0.4188 - loss: 1.2460 - val_accuracy: 0.4000 - val_loss: 1.3176\n",
      "Epoch 40/200\n",
      "\u001b[1m88/88\u001b[0m \u001b[32m━━━━━━━━━━━━━━━━━━━━\u001b[0m\u001b[37m\u001b[0m \u001b[1m0s\u001b[0m 4ms/step - accuracy: 0.4425 - loss: 1.2112 - val_accuracy: 0.3933 - val_loss: 1.3188\n",
      "Epoch 41/200\n",
      "\u001b[1m88/88\u001b[0m \u001b[32m━━━━━━━━━━━━━━━━━━━━\u001b[0m\u001b[37m\u001b[0m \u001b[1m0s\u001b[0m 3ms/step - accuracy: 0.4485 - loss: 1.2182 - val_accuracy: 0.3800 - val_loss: 1.3220\n",
      "Epoch 42/200\n",
      "\u001b[1m88/88\u001b[0m \u001b[32m━━━━━━━━━━━━━━━━━━━━\u001b[0m\u001b[37m\u001b[0m \u001b[1m0s\u001b[0m 3ms/step - accuracy: 0.4233 - loss: 1.2487 - val_accuracy: 0.4000 - val_loss: 1.3102\n",
      "Epoch 43/200\n",
      "\u001b[1m88/88\u001b[0m \u001b[32m━━━━━━━━━━━━━━━━━━━━\u001b[0m\u001b[37m\u001b[0m \u001b[1m0s\u001b[0m 3ms/step - accuracy: 0.4164 - loss: 1.2452 - val_accuracy: 0.3933 - val_loss: 1.3111\n",
      "Epoch 44/200\n",
      "\u001b[1m88/88\u001b[0m \u001b[32m━━━━━━━━━━━━━━━━━━━━\u001b[0m\u001b[37m\u001b[0m \u001b[1m0s\u001b[0m 3ms/step - accuracy: 0.4353 - loss: 1.2549 - val_accuracy: 0.3867 - val_loss: 1.3280\n",
      "Epoch 45/200\n",
      "\u001b[1m88/88\u001b[0m \u001b[32m━━━━━━━━━━━━━━━━━━━━\u001b[0m\u001b[37m\u001b[0m \u001b[1m0s\u001b[0m 3ms/step - accuracy: 0.4371 - loss: 1.2166 - val_accuracy: 0.4133 - val_loss: 1.3148\n",
      "Epoch 46/200\n",
      "\u001b[1m88/88\u001b[0m \u001b[32m━━━━━━━━━━━━━━━━━━━━\u001b[0m\u001b[37m\u001b[0m \u001b[1m0s\u001b[0m 3ms/step - accuracy: 0.4306 - loss: 1.2352 - val_accuracy: 0.4067 - val_loss: 1.3122\n",
      "Epoch 47/200\n",
      "\u001b[1m88/88\u001b[0m \u001b[32m━━━━━━━━━━━━━━━━━━━━\u001b[0m\u001b[37m\u001b[0m \u001b[1m0s\u001b[0m 3ms/step - accuracy: 0.4474 - loss: 1.2095 - val_accuracy: 0.4000 - val_loss: 1.3188\n",
      "Epoch 48/200\n",
      "\u001b[1m88/88\u001b[0m \u001b[32m━━━━━━━━━━━━━━━━━━━━\u001b[0m\u001b[37m\u001b[0m \u001b[1m0s\u001b[0m 3ms/step - accuracy: 0.4119 - loss: 1.2483 - val_accuracy: 0.3933 - val_loss: 1.3144\n",
      "Epoch 49/200\n",
      "\u001b[1m88/88\u001b[0m \u001b[32m━━━━━━━━━━━━━━━━━━━━\u001b[0m\u001b[37m\u001b[0m \u001b[1m0s\u001b[0m 3ms/step - accuracy: 0.4603 - loss: 1.2186 - val_accuracy: 0.4000 - val_loss: 1.3112\n",
      "Epoch 50/200\n",
      "\u001b[1m88/88\u001b[0m \u001b[32m━━━━━━━━━━━━━━━━━━━━\u001b[0m\u001b[37m\u001b[0m \u001b[1m0s\u001b[0m 3ms/step - accuracy: 0.4228 - loss: 1.2113 - val_accuracy: 0.3867 - val_loss: 1.3091\n",
      "Epoch 51/200\n",
      "\u001b[1m88/88\u001b[0m \u001b[32m━━━━━━━━━━━━━━━━━━━━\u001b[0m\u001b[37m\u001b[0m \u001b[1m0s\u001b[0m 3ms/step - accuracy: 0.4205 - loss: 1.2248 - val_accuracy: 0.3733 - val_loss: 1.3126\n",
      "Epoch 52/200\n",
      "\u001b[1m88/88\u001b[0m \u001b[32m━━━━━━━━━━━━━━━━━━━━\u001b[0m\u001b[37m\u001b[0m \u001b[1m0s\u001b[0m 3ms/step - accuracy: 0.4406 - loss: 1.2337 - val_accuracy: 0.3933 - val_loss: 1.3096\n",
      "Epoch 53/200\n",
      "\u001b[1m88/88\u001b[0m \u001b[32m━━━━━━━━━━━━━━━━━━━━\u001b[0m\u001b[37m\u001b[0m \u001b[1m0s\u001b[0m 3ms/step - accuracy: 0.4209 - loss: 1.2263 - val_accuracy: 0.3867 - val_loss: 1.3124\n",
      "Epoch 54/200\n",
      "\u001b[1m88/88\u001b[0m \u001b[32m━━━━━━━━━━━━━━━━━━━━\u001b[0m\u001b[37m\u001b[0m \u001b[1m0s\u001b[0m 3ms/step - accuracy: 0.4461 - loss: 1.2204 - val_accuracy: 0.4067 - val_loss: 1.3178\n",
      "Epoch 55/200\n",
      "\u001b[1m88/88\u001b[0m \u001b[32m━━━━━━━━━━━━━━━━━━━━\u001b[0m\u001b[37m\u001b[0m \u001b[1m0s\u001b[0m 3ms/step - accuracy: 0.4494 - loss: 1.1955 - val_accuracy: 0.3867 - val_loss: 1.3124\n",
      "Epoch 56/200\n",
      "\u001b[1m88/88\u001b[0m \u001b[32m━━━━━━━━━━━━━━━━━━━━\u001b[0m\u001b[37m\u001b[0m \u001b[1m0s\u001b[0m 3ms/step - accuracy: 0.4241 - loss: 1.2266 - val_accuracy: 0.3933 - val_loss: 1.3110\n",
      "Epoch 57/200\n",
      "\u001b[1m88/88\u001b[0m \u001b[32m━━━━━━━━━━━━━━━━━━━━\u001b[0m\u001b[37m\u001b[0m \u001b[1m0s\u001b[0m 3ms/step - accuracy: 0.4392 - loss: 1.2172 - val_accuracy: 0.4000 - val_loss: 1.3216\n",
      "Epoch 58/200\n",
      "\u001b[1m88/88\u001b[0m \u001b[32m━━━━━━━━━━━━━━━━━━━━\u001b[0m\u001b[37m\u001b[0m \u001b[1m0s\u001b[0m 3ms/step - accuracy: 0.4337 - loss: 1.2327 - val_accuracy: 0.4200 - val_loss: 1.3148\n",
      "Epoch 59/200\n",
      "\u001b[1m88/88\u001b[0m \u001b[32m━━━━━━━━━━━━━━━━━━━━\u001b[0m\u001b[37m\u001b[0m \u001b[1m0s\u001b[0m 3ms/step - accuracy: 0.4199 - loss: 1.2305 - val_accuracy: 0.4000 - val_loss: 1.3094\n",
      "Epoch 60/200\n",
      "\u001b[1m88/88\u001b[0m \u001b[32m━━━━━━━━━━━━━━━━━━━━\u001b[0m\u001b[37m\u001b[0m \u001b[1m0s\u001b[0m 3ms/step - accuracy: 0.4307 - loss: 1.2358 - val_accuracy: 0.3933 - val_loss: 1.3155\n"
     ]
    }
   ],
   "source": [
    "# Definir EarlyStopping\n",
    "early_stopping = EarlyStopping(monitor='val_loss', patience=10, restore_best_weights=True)\n",
    "\n",
    "# Entrenar el modelo con EarlyStopping\n",
    "history = model.fit(\n",
    "    X_train_scaled, y_train_encoded,\n",
    "    epochs=200,\n",
    "    batch_size=8,\n",
    "    validation_data=(X_val_scaled, y_val_encoded),\n",
    "    callbacks=[early_stopping],  # Pasamos EarlyStopping aquí\n",
    "    verbose=1\n",
    ")"
   ]
  },
  {
   "cell_type": "markdown",
   "metadata": {},
   "source": [
    "## Obtener la exactitud de entrenamiento y validación"
   ]
  },
  {
   "cell_type": "code",
   "execution_count": 351,
   "metadata": {},
   "outputs": [
    {
     "data": {
      "image/png": "[encoded data removed]",
      "text/plain": [
       "<Figure size 640x480 with 1 Axes>"
      ]
     },
     "metadata": {},
     "output_type": "display_data"
    }
   ],
   "source": [
    "# Obtener la exactitud de entrenamiento y validación\n",
    "train_accuracy = history.history['accuracy']\n",
    "val_accuracy = history.history['val_accuracy']\n",
    "\n",
    "# Graficar la evolución de la exactitud\n",
    "plt.plot(train_accuracy, label='Exactitud Entrenamiento')\n",
    "plt.plot(val_accuracy, label='Exactitud Validación')\n",
    "plt.title('Exactitud durante el Entrenamiento y Validación')\n",
    "plt.xlabel('Épocas')\n",
    "plt.ylabel('Exactitud')\n",
    "plt.legend()\n",
    "plt.show()"
   ]
  },
  {
   "cell_type": "markdown",
   "metadata": {},
   "source": [
    "## Evaluar el modelo"
   ]
  },
  {
   "cell_type": "code",
   "execution_count": 352,
   "metadata": {},
   "outputs": [
    {
     "name": "stdout",
     "output_type": "stream",
     "text": [
      "\u001b[1m5/5\u001b[0m \u001b[32m━━━━━━━━━━━━━━━━━━━━\u001b[0m\u001b[37m\u001b[0m \u001b[1m0s\u001b[0m 17ms/step \n",
      "Exactitud final en entrenamiento: 0.4329\n",
      "Exactitud final en validación: 0.3933\n",
      "\n",
      "Reporte de clasificación:\n",
      "              precision    recall  f1-score   support\n",
      "\n",
      "           1       0.50      0.44      0.47        48\n",
      "           2       0.25      0.13      0.17        30\n",
      "           3       0.39      0.50      0.44        38\n",
      "           4       0.33      0.41      0.36        34\n",
      "\n",
      "    accuracy                           0.39       150\n",
      "   macro avg       0.37      0.37      0.36       150\n",
      "weighted avg       0.38      0.39      0.38       150\n",
      "\n"
     ]
    }
   ],
   "source": [
    "# Evaluar el modelo con el conjunto de validación\n",
    "y_val_pred_prob = model.predict(X_val_scaled)\n",
    "y_val_pred = y_val_pred_prob.argmax(axis=1) + 1  # Ajustar para que coincidan con las clases originales\n",
    "\n",
    "# Ver las últimas puntuaciones de exactitud\n",
    "print(f\"Exactitud final en entrenamiento: {train_accuracy[-1]:.4f}\")\n",
    "print(f\"Exactitud final en validación: {val_accuracy[-1]:.4f}\")\n",
    "\n",
    "# Métricas de evaluación en el conjunto de validación\n",
    "print(\"\\nReporte de clasificación:\")\n",
    "print(classification_report(y_val, y_val_pred))"
   ]
  },
  {
   "cell_type": "code",
   "execution_count": 353,
   "metadata": {},
   "outputs": [
    {
     "name": "stdout",
     "output_type": "stream",
     "text": [
      "Exactitud final en test: 0.4200\n",
      "Pérdida final en test: 1.2616\n",
      "\u001b[1m5/5\u001b[0m \u001b[32m━━━━━━━━━━━━━━━━━━━━\u001b[0m\u001b[37m\u001b[0m \u001b[1m0s\u001b[0m 6ms/step \n",
      "\n",
      "Reporte de clasificación en test:\n",
      "              precision    recall  f1-score   support\n",
      "\n",
      "           1       0.37      0.40      0.38        35\n",
      "           2       0.42      0.29      0.34        35\n",
      "           3       0.47      0.56      0.51        45\n",
      "           4       0.40      0.40      0.40        35\n",
      "\n",
      "    accuracy                           0.42       150\n",
      "   macro avg       0.41      0.41      0.41       150\n",
      "weighted avg       0.42      0.42      0.41       150\n",
      "\n",
      "\n",
      "Matriz de confusión en test:\n",
      "[[14  4 11  6]\n",
      " [ 4 10 12  9]\n",
      " [10  4 25  6]\n",
      " [10  6  5 14]]\n"
     ]
    }
   ],
   "source": [
    "# Evaluación del modelo en el conjunto de test\n",
    "test_loss, test_accuracy = model.evaluate(X_test_scaled, y_test_encoded, verbose=0)\n",
    "\n",
    "print(f\"Exactitud final en test: {test_accuracy:.4f}\")\n",
    "print(f\"Pérdida final en test: {test_loss:.4f}\")\n",
    "\n",
    "# Predecir sobre el conjunto de test\n",
    "y_test_pred_prob = model.predict(X_test_scaled)\n",
    "y_test_pred = y_test_pred_prob.argmax(axis=1) + 1  # Ajustar para que coincidan con las clases originales\n",
    "\n",
    "# Métricas de evaluación en el conjunto de test\n",
    "from sklearn.metrics import classification_report, confusion_matrix\n",
    "\n",
    "print(\"\\nReporte de clasificación en test:\")\n",
    "print(classification_report(y_test, y_test_pred))\n",
    "\n",
    "# Mostrar la matriz de confusión\n",
    "conf_matrix = confusion_matrix(y_test, y_test_pred)\n",
    "print(\"\\nMatriz de confusión en test:\")\n",
    "print(conf_matrix)\n"
   ]
  }
 ],
 "metadata": {
  "kernelspec": {
   "display_name": "myenv",
   "language": "python",
   "name": "python3"
  },
  "language_info": {
   "codemirror_mode": {
    "name": "ipython",
    "version": 3
   },
   "file_extension": ".py",
   "mimetype": "text/x-python",
   "name": "python",
   "nbconvert_exporter": "python",
   "pygments_lexer": "ipython3",
   "version": "3.12.4"
  }
 },
 "nbformat": 4,
 "nbformat_minor": 2
}
