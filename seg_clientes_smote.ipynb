{
 "cells": [
  {
   "cell_type": "code",
   "execution_count": 27,
   "metadata": {},
   "outputs": [
    {
     "name": "stdout",
     "output_type": "stream",
     "text": [
      "Exactitud del modelo: 0.38\n",
      "              precision    recall  f1-score   support\n",
      "\n",
      "           1       0.36      0.30      0.33        53\n",
      "           2       0.36      0.30      0.33        44\n",
      "           3       0.43      0.43      0.43        56\n",
      "           4       0.36      0.49      0.41        47\n",
      "\n",
      "    accuracy                           0.38       200\n",
      "   macro avg       0.38      0.38      0.37       200\n",
      "weighted avg       0.38      0.38      0.38       200\n",
      "\n"
     ]
    }
   ],
   "source": [
    "import pandas as pd\n",
    "from sklearn.model_selection import train_test_split\n",
    "from sklearn.metrics import accuracy_score, classification_report\n",
    "from imblearn.pipeline import Pipeline\n",
    "from imblearn.over_sampling import SMOTE\n",
    "from sklearn.preprocessing import StandardScaler\n",
    "from catboost import CatBoostClassifier\n",
    "\n",
    "# Cargar el dataset\n",
    "file_path = 'C:/Users/Administrator/Documents/Proyecto seg clientes refuerzo/Proyecto_seg_clientes/Data/teleCust1000t_listo.csv'\n",
    "data = pd.read_csv(file_path)\n",
    "\n",
    "# Separar las características (X) y la variable objetivo (y)\n",
    "X = data.drop('custcat', axis=1)\n",
    "y = data['custcat']\n",
    "\n",
    "# Dividir los datos en conjunto de entrenamiento y prueba\n",
    "X_train, X_test, y_train, y_test = train_test_split(X, y, test_size=0.2, random_state=42, stratify=y)\n",
    "\n",
    "# Crear el pipeline\n",
    "pipeline = Pipeline(steps=[\n",
    "    ('scaler', StandardScaler()),\n",
    "    ('smote', SMOTE(random_state=42)),\n",
    "    ('classifier', CatBoostClassifier(\n",
    "        iterations=500,\n",
    "        learning_rate=0.001,\n",
    "        depth=8,\n",
    "        l2_leaf_reg=3,\n",
    "        verbose=0,\n",
    "        random_state=42\n",
    "    ))\n",
    "])\n",
    "# Entrenar el modelo\n",
    "pipeline.fit(X_train, y_train)\n",
    "\n",
    "# Predicciones\n",
    "y_pred = pipeline.predict(X_test)\n",
    "\n",
    "# Calcular la exactitud\n",
    "accuracy = accuracy_score(y_test, y_pred)\n",
    "print(f\"Exactitud del modelo: {accuracy:.2f}\")\n",
    "\n",
    "# Reporte de clasificación\n",
    "print(classification_report(y_test, y_pred))\n"
   ]
  },
  {
   "cell_type": "code",
   "execution_count": 28,
   "metadata": {},
   "outputs": [
    {
     "name": "stdout",
     "output_type": "stream",
     "text": [
      "Distribución de clases antes del SMOTE: Counter({3: 225, 1: 213, 4: 189, 2: 173})\n",
      "Distribución de clases después del SMOTE: Counter({3: 225, 4: 225, 1: 225, 2: 225})\n"
     ]
    }
   ],
   "source": [
    "from collections import Counter\n",
    "from imblearn.over_sampling import SMOTE\n",
    "\n",
    "smote = SMOTE(random_state=42)\n",
    "X_resampled, y_resampled = smote.fit_resample(X_train, y_train)\n",
    "\n",
    "print(\"Distribución de clases antes del SMOTE:\", Counter(y_train))\n",
    "print(\"Distribución de clases después del SMOTE:\", Counter(y_resampled))\n"
   ]
  },
  {
   "cell_type": "code",
   "execution_count": 29,
   "metadata": {},
   "outputs": [
    {
     "name": "stderr",
     "output_type": "stream",
     "text": [
      "c:\\Users\\Administrator\\Documents\\Proyecto seg clientes refuerzo\\myenv\\Lib\\site-packages\\xgboost\\core.py:158: UserWarning: [14:59:35] WARNING: C:\\buildkite-agent\\builds\\buildkite-windows-cpu-autoscaling-group-i-0c55ff5f71b100e98-1\\xgboost\\xgboost-ci-windows\\src\\learner.cc:740: \n",
      "Parameters: { \"use_label_encoder\" } are not used.\n",
      "\n",
      "  warnings.warn(smsg, UserWarning)\n"
     ]
    },
    {
     "name": "stdout",
     "output_type": "stream",
     "text": [
      "Exactitud del ensamble: 0.34\n",
      "              precision    recall  f1-score   support\n",
      "\n",
      "           1       0.38      0.32      0.35        53\n",
      "           2       0.29      0.25      0.27        44\n",
      "           3       0.37      0.45      0.41        56\n",
      "           4       0.32      0.34      0.33        47\n",
      "\n",
      "    accuracy                           0.34       200\n",
      "   macro avg       0.34      0.34      0.34       200\n",
      "weighted avg       0.34      0.34      0.34       200\n",
      "\n"
     ]
    }
   ],
   "source": [
    "import pandas as pd\n",
    "from sklearn.model_selection import train_test_split\n",
    "from sklearn.metrics import accuracy_score, classification_report\n",
    "from sklearn.ensemble import VotingClassifier\n",
    "from sklearn.neighbors import KNeighborsClassifier\n",
    "from catboost import CatBoostClassifier\n",
    "from xgboost import XGBClassifier\n",
    "from sklearn.preprocessing import StandardScaler\n",
    "from imblearn.pipeline import Pipeline\n",
    "from imblearn.over_sampling import SMOTE\n",
    "\n",
    "# Cargar el dataset\n",
    "file_path = 'C:/Users/Administrator/Documents/Proyecto seg clientes refuerzo/Proyecto_seg_clientes/Data/teleCust1000t_listo.csv'\n",
    "data = pd.read_csv(file_path)\n",
    "\n",
    "# Separar las características (X) y la variable objetivo (y)\n",
    "X = data.drop('custcat', axis=1)\n",
    "y = data['custcat']\n",
    "\n",
    "# Dividir en conjunto de entrenamiento y prueba\n",
    "X_train, X_test, y_train, y_test = train_test_split(X, y, test_size=0.2, random_state=42, stratify=y)\n",
    "\n",
    "# Crear modelos base\n",
    "catboost_model = CatBoostClassifier(verbose=0, random_state=42)\n",
    "xgboost_model = XGBClassifier(use_label_encoder=False, eval_metric='mlogloss', random_state=42)\n",
    "knn_model = KNeighborsClassifier(n_neighbors=5)\n",
    "\n",
    "# Crear un clasificador de votación\n",
    "voting_ensemble = VotingClassifier(estimators=[\n",
    "    ('catboost', catboost_model),\n",
    "    ('xgboost', xgboost_model),\n",
    "    ('knn', knn_model)\n",
    "], voting='soft')  # 'soft' usa las probabilidades de cada modelo\n",
    "\n",
    "# Crear un pipeline\n",
    "pipeline = Pipeline(steps=[\n",
    "    ('scaler', StandardScaler()),         # Escalado de características\n",
    "    ('smote', SMOTE(random_state=42)),    # Sobremuestreo con SMOTE\n",
    "    ('classifier', voting_ensemble)      # Ensamble\n",
    "])\n",
    "\n",
    "# Entrenar el modelo\n",
    "pipeline.fit(X_train, y_train)\n",
    "\n",
    "# Predicciones\n",
    "y_pred = pipeline.predict(X_test)\n",
    "\n",
    "# Calcular la exactitud\n",
    "accuracy = accuracy_score(y_test, y_pred)\n",
    "print(f\"Exactitud del ensamble: {accuracy:.2f}\")\n",
    "\n",
    "# Reporte de clasificación\n",
    "print(classification_report(y_test, y_pred))\n"
   ]
  }
 ],
 "metadata": {
  "kernelspec": {
   "display_name": "myenv",
   "language": "python",
   "name": "python3"
  },
  "language_info": {
   "codemirror_mode": {
    "name": "ipython",
    "version": 3
   },
   "file_extension": ".py",
   "mimetype": "text/x-python",
   "name": "python",
   "nbconvert_exporter": "python",
   "pygments_lexer": "ipython3",
   "version": "3.12.4"
  }
 },
 "nbformat": 4,
 "nbformat_minor": 2
}
