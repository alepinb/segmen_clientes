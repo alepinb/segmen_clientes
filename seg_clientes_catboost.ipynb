{
 "cells": [
  {
   "cell_type": "markdown",
   "metadata": {},
   "source": [
    "## Catboost"
   ]
  },
  {
   "cell_type": "markdown",
   "metadata": {},
   "source": [
    "## Cargar librerías"
   ]
  },
  {
   "cell_type": "code",
   "execution_count": 6,
   "metadata": {},
   "outputs": [],
   "source": [
    "from catboost import CatBoostClassifier\n",
    "from sklearn.model_selection import train_test_split\n",
    "from sklearn.metrics import accuracy_score, f1_score\n",
    "from sklearn.preprocessing import StandardScaler\n",
    "import pandas as pd"
   ]
  },
  {
   "cell_type": "markdown",
   "metadata": {},
   "source": [
    "## Cargar dataset"
   ]
  },
  {
   "cell_type": "code",
   "execution_count": 7,
   "metadata": {},
   "outputs": [
    {
     "name": "stdout",
     "output_type": "stream",
     "text": [
      "   region  tenure  age  marital  address  income  ed  employ  retire  gender  \\\n",
      "0       2      13   44        1        9    64.0   4       5       0       0   \n",
      "1       3      11   33        1        7   136.0   5       5       0       0   \n",
      "2       3      68   52        1       24   116.0   1      29       0       1   \n",
      "3       2      33   33        0       12    33.0   2       0       0       1   \n",
      "4       2      23   30        1        9    30.0   1       2       0       0   \n",
      "\n",
      "   reside  custcat  \n",
      "0       2        1  \n",
      "1       6        4  \n",
      "2       2        3  \n",
      "3       1        1  \n",
      "4       4        3  \n",
      "<class 'pandas.core.frame.DataFrame'>\n",
      "RangeIndex: 1000 entries, 0 to 999\n",
      "Data columns (total 12 columns):\n",
      " #   Column   Non-Null Count  Dtype  \n",
      "---  ------   --------------  -----  \n",
      " 0   region   1000 non-null   int64  \n",
      " 1   tenure   1000 non-null   int64  \n",
      " 2   age      1000 non-null   int64  \n",
      " 3   marital  1000 non-null   int64  \n",
      " 4   address  1000 non-null   int64  \n",
      " 5   income   1000 non-null   float64\n",
      " 6   ed       1000 non-null   int64  \n",
      " 7   employ   1000 non-null   int64  \n",
      " 8   retire   1000 non-null   int64  \n",
      " 9   gender   1000 non-null   int64  \n",
      " 10  reside   1000 non-null   int64  \n",
      " 11  custcat  1000 non-null   int64  \n",
      "dtypes: float64(1), int64(11)\n",
      "memory usage: 93.9 KB\n",
      "None\n"
     ]
    }
   ],
   "source": [
    "# Ruta del archivo\n",
    "ruta = r'C:/Users/Administrator/Documents/Proyecto seg clientes refuerzo/Proyecto_seg_clientes/Data/teleCust1000t_listo.csv'\n",
    "\n",
    "# Cargar el dataset\n",
    "df = pd.read_csv(ruta)\n",
    "\n",
    "# Ver las primeras filas\n",
    "print(df.head())\n",
    "print(df.info())"
   ]
  },
  {
   "cell_type": "markdown",
   "metadata": {},
   "source": [
    "## Separar características y variable objetivo"
   ]
  },
  {
   "cell_type": "code",
   "execution_count": 8,
   "metadata": {},
   "outputs": [],
   "source": [
    "# Separar las características (X) y la variable objetivo (y)\n",
    "X = df.drop('custcat', axis=1)  \n",
    "y = df['custcat']"
   ]
  },
  {
   "cell_type": "markdown",
   "metadata": {},
   "source": [
    "## Dividir dataset en entrenamiento y prueba"
   ]
  },
  {
   "cell_type": "code",
   "execution_count": 9,
   "metadata": {},
   "outputs": [],
   "source": [
    "# Dividir el dataset en entrenamiento y prueba\n",
    "X_train, X_test, y_train, y_test = train_test_split(X, y, test_size=0.2, random_state=42)"
   ]
  },
  {
   "cell_type": "markdown",
   "metadata": {},
   "source": [
    "## Escalar las características si no son categóricas"
   ]
  },
  {
   "cell_type": "code",
   "execution_count": 10,
   "metadata": {},
   "outputs": [],
   "source": [
    "# Escalar las características si no son categóricas\n",
    "scaler = StandardScaler()\n",
    "X_train_scaled = scaler.fit_transform(X_train)\n",
    "X_test_scaled = scaler.transform(X_test)"
   ]
  },
  {
   "cell_type": "markdown",
   "metadata": {},
   "source": [
    "## Crear el modelo CatBoostClassifier"
   ]
  },
  {
   "cell_type": "code",
   "execution_count": 11,
   "metadata": {},
   "outputs": [],
   "source": [
    "# Crear el modelo CatBoostClassifier\n",
    "model = CatBoostClassifier(\n",
    "    iterations=500,          # Número de iteraciones de boosting\n",
    "    learning_rate=0.1,       # Tasa de aprendizaje\n",
    "    depth=6,                 # Profundidad máxima de los árboles\n",
    "    loss_function='MultiClass', # Para clasificación multiclase\n",
    "    random_seed=42,\n",
    "    verbose=100              # Mostrar progreso durante el entrenamiento\n",
    ")"
   ]
  },
  {
   "cell_type": "markdown",
   "metadata": {},
   "source": [
    "## Entrenar el modelo"
   ]
  },
  {
   "cell_type": "code",
   "execution_count": 12,
   "metadata": {},
   "outputs": [
    {
     "name": "stdout",
     "output_type": "stream",
     "text": [
      "0:\tlearn: 1.3658130\ttotal: 154ms\tremaining: 1m 16s\n",
      "100:\tlearn: 0.8373711\ttotal: 459ms\tremaining: 1.81s\n",
      "200:\tlearn: 0.6049439\ttotal: 722ms\tremaining: 1.07s\n",
      "300:\tlearn: 0.4511838\ttotal: 1.03s\tremaining: 679ms\n",
      "400:\tlearn: 0.3445095\ttotal: 1.33s\tremaining: 330ms\n",
      "499:\tlearn: 0.2733795\ttotal: 1.64s\tremaining: 0us\n"
     ]
    },
    {
     "data": {
      "text/plain": [
       "<catboost.core.CatBoostClassifier at 0x17d460c1d60>"
      ]
     },
     "execution_count": 12,
     "metadata": {},
     "output_type": "execute_result"
    }
   ],
   "source": [
    "# Entrenar el modelo\n",
    "model.fit(X_train_scaled, y_train)"
   ]
  },
  {
   "cell_type": "markdown",
   "metadata": {},
   "source": [
    "## Hacer predicciones"
   ]
  },
  {
   "cell_type": "code",
   "execution_count": 13,
   "metadata": {},
   "outputs": [],
   "source": [
    "# Hacer predicciones\n",
    "y_pred = model.predict(X_test_scaled)"
   ]
  },
  {
   "cell_type": "markdown",
   "metadata": {},
   "source": [
    "## Evaluar el modelo"
   ]
  },
  {
   "cell_type": "code",
   "execution_count": 14,
   "metadata": {},
   "outputs": [
    {
     "name": "stdout",
     "output_type": "stream",
     "text": [
      "Exactitud del modelo CatBoost: 0.32\n",
      "F1-Score del modelo CatBoost: 0.31\n"
     ]
    }
   ],
   "source": [
    "# Evaluar el modelo\n",
    "accuracy = accuracy_score(y_test, y_pred)\n",
    "f1 = f1_score(y_test, y_pred, average='weighted')\n",
    "\n",
    "print(f\"Exactitud del modelo CatBoost: {accuracy:.2f}\")\n",
    "print(f\"F1-Score del modelo CatBoost: {f1:.2f}\")"
   ]
  }
 ],
 "metadata": {
  "kernelspec": {
   "display_name": "myenv",
   "language": "python",
   "name": "python3"
  },
  "language_info": {
   "codemirror_mode": {
    "name": "ipython",
    "version": 3
   },
   "file_extension": ".py",
   "mimetype": "text/x-python",
   "name": "python",
   "nbconvert_exporter": "python",
   "pygments_lexer": "ipython3",
   "version": "3.12.4"
  }
 },
 "nbformat": 4,
 "nbformat_minor": 2
}
